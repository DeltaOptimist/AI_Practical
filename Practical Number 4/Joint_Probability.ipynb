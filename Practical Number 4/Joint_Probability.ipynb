{
  "nbformat": 4,
  "nbformat_minor": 0,
  "metadata": {
    "colab": {
      "name": "Joint_Probability.ipynb",
      "provenance": []
    },
    "kernelspec": {
      "name": "python3",
      "display_name": "Python 3"
    }
  },
  "cells": [
    {
      "cell_type": "markdown",
      "metadata": {
        "id": "Z4MHfInzPn-y"
      },
      "source": [
        "**Joint Probaility**"
      ]
    },
    {
      "cell_type": "code",
      "metadata": {
        "colab": {
          "base_uri": "https://localhost:8080/"
        },
        "id": "7IRjlwayPfbz",
        "outputId": "3e9ef00a-fbf6-465f-ce1d-bd467a168197"
      },
      "source": [
        "cardnumber=input(\"Enter number of Card\") \r\n",
        "cardcolor=input(\"Enter color of Card\") "
      ],
      "execution_count": 1,
      "outputs": [
        {
          "output_type": "stream",
          "text": [
            "Enter number of Card10\n",
            "Enter color of Cardblack\n"
          ],
          "name": "stdout"
        }
      ]
    },
    {
      "cell_type": "code",
      "metadata": {
        "colab": {
          "base_uri": "https://localhost:8080/"
        },
        "id": "aDblgipwQKzy",
        "outputId": "96159fdd-3c21-4ba8-e975-37680a8c1e62"
      },
      "source": [
        "pofA=4/52 \r\n",
        "pofB=26/52\r\n",
        "\r\n",
        "print(\"p(A)=>Probablility of drawing card with number \",cardnumber,\" =\",round(pofA,2)) \r\n",
        "print(\"p(B)=>Probablility of drawing card with color \",cardcolor,\" =\",round(pofB,2)) \r\n",
        "\r\n",
        "print(\"Joint Probablity of A and B = P(A) * P(B)\") \r\n",
        "\r\n",
        "pAandB=round(pofA * pofB,2) \r\n",
        "\r\n",
        "print(\"P(A and B)=\",pAandB) \r\n",
        "print(\"There are \",pAandB *100,\" % chances that of getting \",cardcolor, \" card with number \",cardnumber)"
      ],
      "execution_count": 3,
      "outputs": [
        {
          "output_type": "stream",
          "text": [
            "p(A)=>Probablility of drawing card with number  10  = 0.08\n",
            "p(B)=>Probablility of drawing card with color  black  = 0.5\n",
            "Joint Probablity of A and B = P(A) * P(B)\n",
            "P(A and B)= 0.04\n",
            "There are  4.0  % chances that of getting  black  card with number  10\n"
          ],
          "name": "stdout"
        }
      ]
    },
    {
      "cell_type": "code",
      "metadata": {
        "id": "ViKyXYQOQYLU"
      },
      "source": [
        ""
      ],
      "execution_count": null,
      "outputs": []
    }
  ]
}