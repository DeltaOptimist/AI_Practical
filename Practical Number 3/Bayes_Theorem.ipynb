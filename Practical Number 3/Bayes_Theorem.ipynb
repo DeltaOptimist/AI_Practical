{
  "nbformat": 4,
  "nbformat_minor": 0,
  "metadata": {
    "colab": {
      "name": "Bayes_Theorem.ipynb",
      "provenance": []
    },
    "kernelspec": {
      "name": "python3",
      "display_name": "Python 3"
    }
  },
  "cells": [
    {
      "cell_type": "markdown",
      "metadata": {
        "id": "xuEFyisQ1S5p"
      },
      "source": [
        "**3. Implement Bayes Theorem using Python**"
      ]
    },
    {
      "cell_type": "code",
      "metadata": {
        "colab": {
          "base_uri": "https://localhost:8080/"
        },
        "id": "l0yxNgRq09FC",
        "outputId": "6a028c9a-8f6a-43c9-e87f-a3933729f8b6"
      },
      "source": [
        "# calculate the probability of cancer patient and diagnostic test\r\n",
        " \r\n",
        "# calculate P(A|B) given P(A), P(B|A), P(B|not A)\r\n",
        "def bayes_theorem(p_a, p_b_given_a, p_b_given_not_a):\r\n",
        "\t# calculate P(not A)\r\n",
        "\tnot_a = 1 - p_a\r\n",
        "\t# calculate P(B)\r\n",
        "\tp_b = p_b_given_a * p_a + p_b_given_not_a * not_a\r\n",
        "\t# calculate P(A|B)\r\n",
        "\tp_a_given_b = (p_b_given_a * p_a) / p_b\r\n",
        "\treturn p_a_given_b\r\n",
        " \r\n",
        "# P(A)\r\n",
        "p_a = 0.0002\r\n",
        "# P(B|A)\r\n",
        "p_b_given_a = 0.85\r\n",
        "# P(B|not A)\r\n",
        "p_b_given_not_a = 0.05\r\n",
        "# calculate P(A|B)\r\n",
        "result = bayes_theorem(p_a, p_b_given_a, p_b_given_not_a)\r\n",
        "# summarize\r\n",
        "print('P(A|B) = %.3f%%' % (result * 100))"
      ],
      "execution_count": null,
      "outputs": [
        {
          "output_type": "stream",
          "text": [
            "P(A|B) = 0.339%\n"
          ],
          "name": "stdout"
        }
      ]
    },
    {
      "cell_type": "code",
      "metadata": {
        "id": "-PdBVM-S2UDv"
      },
      "source": [
        ""
      ],
      "execution_count": null,
      "outputs": []
    }
  ]
}