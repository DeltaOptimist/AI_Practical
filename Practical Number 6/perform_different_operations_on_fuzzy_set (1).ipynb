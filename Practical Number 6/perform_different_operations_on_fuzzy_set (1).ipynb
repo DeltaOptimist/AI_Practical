{
  "nbformat": 4,
  "nbformat_minor": 0,
  "metadata": {
    "colab": {
      "name": "perform_different_operations_on_fuzzy_set.ipynb",
      "provenance": []
    },
    "kernelspec": {
      "name": "python3",
      "display_name": "Python 3"
    }
  },
  "cells": [
    {
      "cell_type": "markdown",
      "metadata": {
        "id": "9O7pNXDdW02o"
      },
      "source": [
        "What is Fuzzy Set ?\r\n",
        "\r\n",
        "Fuzzy refers to something that is unclear or vague . Hence, Fuzzy Set is a Set where every key is associated with value, which is between 0 to 1 based on the certainity .This value is often called as degree of membership. Fuzzy Set is denoted with a Tilde Sign on top of the normal Set notation."
      ]
    },
    {
      "cell_type": "markdown",
      "metadata": {
        "id": "lWqQZBimW7cv"
      },
      "source": [
        "1. Union :\r\n",
        "\r\n",
        "Consider 2 Fuzzy Sets denoted by A and  B, then let’s consider Y be the Union of them, then for every member of  A and  B, Y will be:"
      ]
    },
    {
      "cell_type": "markdown",
      "metadata": {
        "id": "kGIP93xhXCBA"
      },
      "source": [
        "degree_of_membership(Y)= max(degree_of_membership(A), degree_of_membership(B)) "
      ]
    },
    {
      "cell_type": "code",
      "metadata": {
        "colab": {
          "base_uri": "https://localhost:8080/"
        },
        "id": "JKCbPuxPWr42",
        "outputId": "5adf0f11-3d37-4c6d-cbf5-7a3969d459a8"
      },
      "source": [
        "# Example to Demonstrate the \r\n",
        "# Union of Two Fuzzy Sets \r\n",
        "A = dict() \r\n",
        "B = dict() \r\n",
        "Y = dict() \r\n",
        "\r\n",
        "A = {\"a\": 0.2, \"b\": 0.3, \"c\": 0.6, \"d\": 0.6} \r\n",
        "B = {\"a\": 0.9, \"b\": 0.9, \"c\": 0.4, \"d\": 0.5} \r\n",
        "\r\n",
        "print('The First Fuzzy Set is :', A) \r\n",
        "print('The Second Fuzzy Set is :', B) \r\n",
        "\r\n",
        "\r\n",
        "for A_key, B_key in zip(A, B): \r\n",
        "\tA_value = A[A_key] \r\n",
        "\tB_value = B[B_key] \r\n",
        "\r\n",
        "\tif A_value > B_value: \r\n",
        "\t\tY[A_key] = A_value \r\n",
        "\telse: \r\n",
        "\t\tY[B_key] = B_value \r\n",
        "\t\t\r\n",
        "print('Fuzzy Set Union is :', Y) \r\n"
      ],
      "execution_count": null,
      "outputs": [
        {
          "output_type": "stream",
          "text": [
            "The First Fuzzy Set is : {'a': 0.2, 'b': 0.3, 'c': 0.6, 'd': 0.6}\n",
            "The Second Fuzzy Set is : {'a': 0.9, 'b': 0.9, 'c': 0.4, 'd': 0.5}\n",
            "Fuzzy Set Union is : {'a': 0.9, 'b': 0.9, 'c': 0.6, 'd': 0.6}\n"
          ],
          "name": "stdout"
        }
      ]
    },
    {
      "cell_type": "code",
      "metadata": {
        "id": "5HYWUxQUXQMC"
      },
      "source": [
        ""
      ],
      "execution_count": null,
      "outputs": []
    },
    {
      "cell_type": "markdown",
      "metadata": {
        "id": "5kyByV6wXW0x"
      },
      "source": [
        "**2. Intersection :**\r\n",
        "\r\n",
        "Consider 2 Fuzzy Sets denoted by A and  B, then let’s consider Y be the Intersection of them, then for every member of  A and  B, Y will be:\r\n",
        "\r\n",
        "degree_of_membership(Y)= min(degree_of_membership(A), degree_of_membership(B)) "
      ]
    },
    {
      "cell_type": "code",
      "metadata": {
        "colab": {
          "base_uri": "https://localhost:8080/"
        },
        "id": "QrHZgjvEXYlD",
        "outputId": "d5ca5cca-4f2a-4c00-d2f5-51e6f2b26c4e"
      },
      "source": [
        "# Example to Demonstrate \r\n",
        "# Intersection of Two Fuzzy Sets \r\n",
        "A = dict() \r\n",
        "B = dict() \r\n",
        "Y = dict() \r\n",
        "\r\n",
        "A = {\"a\": 0.2, \"b\": 0.3, \"c\": 0.6, \"d\": 0.6} \r\n",
        "B = {\"a\": 0.9, \"b\": 0.9, \"c\": 0.4, \"d\": 0.5} \r\n",
        "\r\n",
        "print('The First Fuzzy Set is :', A) \r\n",
        "print('The Second Fuzzy Set is :', B) \r\n",
        "\r\n",
        "\r\n",
        "for A_key, B_key in zip(A, B): \r\n",
        "\tA_value = A[A_key] \r\n",
        "\tB_value = B[B_key] \r\n",
        "\r\n",
        "\tif A_value < B_value: \r\n",
        "\t\tY[A_key] = A_value \r\n",
        "\telse: \r\n",
        "\t\tY[B_key] = B_value \r\n",
        "print('Fuzzy Set Intersection is :', Y) \r\n"
      ],
      "execution_count": null,
      "outputs": [
        {
          "output_type": "stream",
          "text": [
            "The First Fuzzy Set is : {'a': 0.2, 'b': 0.3, 'c': 0.6, 'd': 0.6}\n",
            "The Second Fuzzy Set is : {'a': 0.9, 'b': 0.9, 'c': 0.4, 'd': 0.5}\n",
            "Fuzzy Set Intersection is : {'a': 0.2, 'b': 0.3, 'c': 0.4, 'd': 0.5}\n"
          ],
          "name": "stdout"
        }
      ]
    },
    {
      "cell_type": "code",
      "metadata": {
        "id": "6g-dkUO6Xe04"
      },
      "source": [
        ""
      ],
      "execution_count": null,
      "outputs": []
    },
    {
      "cell_type": "markdown",
      "metadata": {
        "id": "PvMgJKc7Xgmd"
      },
      "source": [
        "**3. Complement :**\r\n",
        "\r\n",
        "Consider a Fuzzy Sets denoted by A  , then let’s consider Y be the Complement of it, then for every member of  A  , Y will be:\r\n",
        "\r\n",
        "degree_of_membership(Y)= 1 - degree_of_membership(A)"
      ]
    },
    {
      "cell_type": "code",
      "metadata": {
        "colab": {
          "base_uri": "https://localhost:8080/"
        },
        "id": "S3NvmTwWXnwo",
        "outputId": "6f1d6d3b-b6a2-425c-bf4f-3321e15c48d4"
      },
      "source": [
        "# Example to Demonstrate the \r\n",
        "# Difference Between Two Fuzzy Sets \r\n",
        "A = dict() \r\n",
        "Y = dict() \r\n",
        "\r\n",
        "A = {\"a\": 0.2, \"b\": 0.3, \"c\": 0.6, \"d\": 0.6} \r\n",
        "\r\n",
        "print('The Fuzzy Set is :', A) \r\n",
        "\r\n",
        "\r\n",
        "for A_key in A: \r\n",
        "  Y[A_key]= 1-A[A_key] \r\n",
        "\t\t\r\n",
        "print('Fuzzy Set Complement is :', Y) \r\n"
      ],
      "execution_count": null,
      "outputs": [
        {
          "output_type": "stream",
          "text": [
            "The Fuzzy Set is : {'a': 0.2, 'b': 0.3, 'c': 0.6, 'd': 0.6}\n",
            "Fuzzy Set Complement is : {'a': 0.8, 'b': 0.7, 'c': 0.4, 'd': 0.4}\n"
          ],
          "name": "stdout"
        }
      ]
    },
    {
      "cell_type": "code",
      "metadata": {
        "id": "kFXfdSB1XqdV"
      },
      "source": [
        ""
      ],
      "execution_count": null,
      "outputs": []
    },
    {
      "cell_type": "markdown",
      "metadata": {
        "id": "42U85ssnXyRs"
      },
      "source": [
        "**4. Difference :** \r\n",
        "\r\n",
        "Consider 2 Fuzzy Sets denoted by A and  B, then let’s consider Y be the Intersection of them, then for every member of  A and  B, Y will be:\r\n",
        "\r\n",
        "degree_of_membership(Y)= min(degree_of_membership(A), 1- degree_of_membership(B)) \r\n"
      ]
    },
    {
      "cell_type": "code",
      "metadata": {
        "id": "uTvjZlIjX-e5",
        "colab": {
          "base_uri": "https://localhost:8080/"
        },
        "outputId": "d6b54efd-b34b-48ea-bf72-f0c1d31d117c"
      },
      "source": [
        "# Example to Demonstrate the \r\n",
        "# Difference Between Two Fuzzy Sets \r\n",
        "A = dict() \r\n",
        "B = dict() \r\n",
        "Y = dict() \r\n",
        "\r\n",
        "A = {\"a\": 0.2, \"b\": 0.3, \"c\": 0.6, \"d\": 0.6} \r\n",
        "B = {\"a\": 0.9, \"b\": 0.9, \"c\": 0.4, \"d\": 0.5} \r\n",
        "\r\n",
        "print('The First Fuzzy Set is :', A) \r\n",
        "print('The Second Fuzzy Set is :', B) \r\n",
        "\r\n",
        "\r\n",
        "for A_key, B_key in zip(A, B): \r\n",
        "\tA_value = A[A_key] \r\n",
        "\tB_value = B[B_key] \r\n",
        "\tB_value = 1 - B_value \r\n",
        "\r\n",
        "\tif A_value < B_value: \r\n",
        "\t\tY[A_key] = A_value \r\n",
        "\telse: \r\n",
        "\t\tY[B_key] = B_value \r\n",
        "\t\t\r\n",
        "print('Fuzzy Set Difference is :', Y) \r\n"
      ],
      "execution_count": null,
      "outputs": [
        {
          "output_type": "stream",
          "text": [
            "The First Fuzzy Set is : {'a': 0.2, 'b': 0.3, 'c': 0.6, 'd': 0.6}\n",
            "The Second Fuzzy Set is : {'a': 0.9, 'b': 0.9, 'c': 0.4, 'd': 0.5}\n",
            "Fuzzy Set Difference is : {'a': 0.09999999999999998, 'b': 0.09999999999999998, 'c': 0.6, 'd': 0.5}\n"
          ],
          "name": "stdout"
        }
      ]
    },
    {
      "cell_type": "code",
      "metadata": {
        "id": "4h0oDk5KYAVH"
      },
      "source": [
        ""
      ],
      "execution_count": null,
      "outputs": []
    }
  ]
}